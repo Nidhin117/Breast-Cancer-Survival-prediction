{
 "cells": [
  {
   "cell_type": "markdown",
   "metadata": {},
   "source": [
    "#### In this notebook I have used dataset from Kaggle https://www.kaggle.com/datasets/amandam1/breastcancerdataset to develop a Machine learning model that tries to predict whether a patient with breast cancer will survive or not"
   ]
  },
  {
   "cell_type": "code",
   "execution_count": 1,
   "metadata": {},
   "outputs": [],
   "source": [
    "import pandas as pd\n",
    "import numpy as np\n",
    "import matplotlib.pyplot as plt\n",
    "import seaborn as sns\n",
    "from sklearn.preprocessing import OrdinalEncoder,OneHotEncoder,LabelEncoder\n",
    "from sklearn.model_selection import train_test_split\n",
    "from sklearn.compose import ColumnTransformer\n",
    "from sklearn.pipeline import Pipeline,make_pipeline\n",
    "from sklearn.preprocessing import StandardScaler\n",
    "from sklearn.decomposition import PCA"
   ]
  },
  {
   "cell_type": "code",
   "execution_count": 2,
   "metadata": {},
   "outputs": [],
   "source": [
    "df = pd.read_csv('BRCA.csv',skip_blank_lines=True)"
   ]
  },
  {
   "cell_type": "code",
   "execution_count": 3,
   "metadata": {},
   "outputs": [
    {
     "data": {
      "text/html": [
       "<div>\n",
       "<style scoped>\n",
       "    .dataframe tbody tr th:only-of-type {\n",
       "        vertical-align: middle;\n",
       "    }\n",
       "\n",
       "    .dataframe tbody tr th {\n",
       "        vertical-align: top;\n",
       "    }\n",
       "\n",
       "    .dataframe thead th {\n",
       "        text-align: right;\n",
       "    }\n",
       "</style>\n",
       "<table border=\"1\" class=\"dataframe\">\n",
       "  <thead>\n",
       "    <tr style=\"text-align: right;\">\n",
       "      <th></th>\n",
       "      <th>Patient_ID</th>\n",
       "      <th>Age</th>\n",
       "      <th>Gender</th>\n",
       "      <th>Protein1</th>\n",
       "      <th>Protein2</th>\n",
       "      <th>Protein3</th>\n",
       "      <th>Protein4</th>\n",
       "      <th>Tumour_Stage</th>\n",
       "      <th>Histology</th>\n",
       "      <th>ER status</th>\n",
       "      <th>PR status</th>\n",
       "      <th>HER2 status</th>\n",
       "      <th>Surgery_type</th>\n",
       "      <th>Date_of_Surgery</th>\n",
       "      <th>Date_of_Last_Visit</th>\n",
       "      <th>Patient_Status</th>\n",
       "    </tr>\n",
       "  </thead>\n",
       "  <tbody>\n",
       "    <tr>\n",
       "      <th>0</th>\n",
       "      <td>TCGA-D8-A1XD</td>\n",
       "      <td>36.0</td>\n",
       "      <td>FEMALE</td>\n",
       "      <td>0.080353</td>\n",
       "      <td>0.42638</td>\n",
       "      <td>0.54715</td>\n",
       "      <td>0.273680</td>\n",
       "      <td>III</td>\n",
       "      <td>Infiltrating Ductal Carcinoma</td>\n",
       "      <td>Positive</td>\n",
       "      <td>Positive</td>\n",
       "      <td>Negative</td>\n",
       "      <td>Modified Radical Mastectomy</td>\n",
       "      <td>15-Jan-17</td>\n",
       "      <td>19-Jun-17</td>\n",
       "      <td>Alive</td>\n",
       "    </tr>\n",
       "    <tr>\n",
       "      <th>1</th>\n",
       "      <td>TCGA-EW-A1OX</td>\n",
       "      <td>43.0</td>\n",
       "      <td>FEMALE</td>\n",
       "      <td>-0.420320</td>\n",
       "      <td>0.57807</td>\n",
       "      <td>0.61447</td>\n",
       "      <td>-0.031505</td>\n",
       "      <td>II</td>\n",
       "      <td>Mucinous Carcinoma</td>\n",
       "      <td>Positive</td>\n",
       "      <td>Positive</td>\n",
       "      <td>Negative</td>\n",
       "      <td>Lumpectomy</td>\n",
       "      <td>26-Apr-17</td>\n",
       "      <td>09-Nov-18</td>\n",
       "      <td>Dead</td>\n",
       "    </tr>\n",
       "    <tr>\n",
       "      <th>2</th>\n",
       "      <td>TCGA-A8-A079</td>\n",
       "      <td>69.0</td>\n",
       "      <td>FEMALE</td>\n",
       "      <td>0.213980</td>\n",
       "      <td>1.31140</td>\n",
       "      <td>-0.32747</td>\n",
       "      <td>-0.234260</td>\n",
       "      <td>III</td>\n",
       "      <td>Infiltrating Ductal Carcinoma</td>\n",
       "      <td>Positive</td>\n",
       "      <td>Positive</td>\n",
       "      <td>Negative</td>\n",
       "      <td>Other</td>\n",
       "      <td>08-Sep-17</td>\n",
       "      <td>09-Jun-18</td>\n",
       "      <td>Alive</td>\n",
       "    </tr>\n",
       "    <tr>\n",
       "      <th>3</th>\n",
       "      <td>TCGA-D8-A1XR</td>\n",
       "      <td>56.0</td>\n",
       "      <td>FEMALE</td>\n",
       "      <td>0.345090</td>\n",
       "      <td>-0.21147</td>\n",
       "      <td>-0.19304</td>\n",
       "      <td>0.124270</td>\n",
       "      <td>II</td>\n",
       "      <td>Infiltrating Ductal Carcinoma</td>\n",
       "      <td>Positive</td>\n",
       "      <td>Positive</td>\n",
       "      <td>Negative</td>\n",
       "      <td>Modified Radical Mastectomy</td>\n",
       "      <td>25-Jan-17</td>\n",
       "      <td>12-Jul-17</td>\n",
       "      <td>Alive</td>\n",
       "    </tr>\n",
       "    <tr>\n",
       "      <th>4</th>\n",
       "      <td>TCGA-BH-A0BF</td>\n",
       "      <td>56.0</td>\n",
       "      <td>FEMALE</td>\n",
       "      <td>0.221550</td>\n",
       "      <td>1.90680</td>\n",
       "      <td>0.52045</td>\n",
       "      <td>-0.311990</td>\n",
       "      <td>II</td>\n",
       "      <td>Infiltrating Ductal Carcinoma</td>\n",
       "      <td>Positive</td>\n",
       "      <td>Positive</td>\n",
       "      <td>Negative</td>\n",
       "      <td>Other</td>\n",
       "      <td>06-May-17</td>\n",
       "      <td>27-Jun-19</td>\n",
       "      <td>Dead</td>\n",
       "    </tr>\n",
       "  </tbody>\n",
       "</table>\n",
       "</div>"
      ],
      "text/plain": [
       "     Patient_ID   Age  Gender  Protein1  Protein2  Protein3  Protein4  \\\n",
       "0  TCGA-D8-A1XD  36.0  FEMALE  0.080353   0.42638   0.54715  0.273680   \n",
       "1  TCGA-EW-A1OX  43.0  FEMALE -0.420320   0.57807   0.61447 -0.031505   \n",
       "2  TCGA-A8-A079  69.0  FEMALE  0.213980   1.31140  -0.32747 -0.234260   \n",
       "3  TCGA-D8-A1XR  56.0  FEMALE  0.345090  -0.21147  -0.19304  0.124270   \n",
       "4  TCGA-BH-A0BF  56.0  FEMALE  0.221550   1.90680   0.52045 -0.311990   \n",
       "\n",
       "  Tumour_Stage                      Histology ER status PR status HER2 status  \\\n",
       "0          III  Infiltrating Ductal Carcinoma  Positive  Positive    Negative   \n",
       "1           II             Mucinous Carcinoma  Positive  Positive    Negative   \n",
       "2          III  Infiltrating Ductal Carcinoma  Positive  Positive    Negative   \n",
       "3           II  Infiltrating Ductal Carcinoma  Positive  Positive    Negative   \n",
       "4           II  Infiltrating Ductal Carcinoma  Positive  Positive    Negative   \n",
       "\n",
       "                  Surgery_type Date_of_Surgery Date_of_Last_Visit  \\\n",
       "0  Modified Radical Mastectomy       15-Jan-17          19-Jun-17   \n",
       "1                   Lumpectomy       26-Apr-17          09-Nov-18   \n",
       "2                        Other       08-Sep-17          09-Jun-18   \n",
       "3  Modified Radical Mastectomy       25-Jan-17          12-Jul-17   \n",
       "4                        Other       06-May-17          27-Jun-19   \n",
       "\n",
       "  Patient_Status  \n",
       "0          Alive  \n",
       "1           Dead  \n",
       "2          Alive  \n",
       "3          Alive  \n",
       "4           Dead  "
      ]
     },
     "execution_count": 3,
     "metadata": {},
     "output_type": "execute_result"
    }
   ],
   "source": [
    "df.head()"
   ]
  },
  {
   "cell_type": "code",
   "execution_count": 4,
   "metadata": {},
   "outputs": [
    {
     "data": {
      "text/plain": [
       "(341, 16)"
      ]
     },
     "execution_count": 4,
     "metadata": {},
     "output_type": "execute_result"
    }
   ],
   "source": [
    "df.shape"
   ]
  },
  {
   "cell_type": "code",
   "execution_count": 5,
   "metadata": {},
   "outputs": [
    {
     "name": "stdout",
     "output_type": "stream",
     "text": [
      "<class 'pandas.core.frame.DataFrame'>\n",
      "RangeIndex: 341 entries, 0 to 340\n",
      "Data columns (total 16 columns):\n",
      " #   Column              Non-Null Count  Dtype  \n",
      "---  ------              --------------  -----  \n",
      " 0   Patient_ID          334 non-null    object \n",
      " 1   Age                 334 non-null    float64\n",
      " 2   Gender              334 non-null    object \n",
      " 3   Protein1            334 non-null    float64\n",
      " 4   Protein2            334 non-null    float64\n",
      " 5   Protein3            334 non-null    float64\n",
      " 6   Protein4            334 non-null    float64\n",
      " 7   Tumour_Stage        334 non-null    object \n",
      " 8   Histology           334 non-null    object \n",
      " 9   ER status           334 non-null    object \n",
      " 10  PR status           334 non-null    object \n",
      " 11  HER2 status         334 non-null    object \n",
      " 12  Surgery_type        334 non-null    object \n",
      " 13  Date_of_Surgery     334 non-null    object \n",
      " 14  Date_of_Last_Visit  317 non-null    object \n",
      " 15  Patient_Status      321 non-null    object \n",
      "dtypes: float64(5), object(11)\n",
      "memory usage: 42.8+ KB\n"
     ]
    }
   ],
   "source": [
    "df.info()"
   ]
  },
  {
   "cell_type": "markdown",
   "metadata": {},
   "source": [
    "#### First Step is exploratory data analysis which includes checking data for null values and verifying the consistency and validity of data"
   ]
  },
  {
   "cell_type": "code",
   "execution_count": 6,
   "metadata": {},
   "outputs": [
    {
     "data": {
      "text/plain": [
       "Patient_ID             7\n",
       "Age                    7\n",
       "Gender                 7\n",
       "Protein1               7\n",
       "Protein2               7\n",
       "Protein3               7\n",
       "Protein4               7\n",
       "Tumour_Stage           7\n",
       "Histology              7\n",
       "ER status              7\n",
       "PR status              7\n",
       "HER2 status            7\n",
       "Surgery_type           7\n",
       "Date_of_Surgery        7\n",
       "Date_of_Last_Visit    24\n",
       "Patient_Status        20\n",
       "dtype: int64"
      ]
     },
     "execution_count": 6,
     "metadata": {},
     "output_type": "execute_result"
    }
   ],
   "source": [
    "df.isna().sum()"
   ]
  },
  {
   "cell_type": "markdown",
   "metadata": {},
   "source": [
    "#### all columns seem to have 7 rows with null values in the end. Lets check for duplicates"
   ]
  },
  {
   "cell_type": "code",
   "execution_count": 7,
   "metadata": {},
   "outputs": [
    {
     "data": {
      "text/plain": [
       "6"
      ]
     },
     "execution_count": 7,
     "metadata": {},
     "output_type": "execute_result"
    }
   ],
   "source": [
    "df.duplicated().sum()"
   ]
  },
  {
   "cell_type": "code",
   "execution_count": 8,
   "metadata": {},
   "outputs": [
    {
     "data": {
      "text/html": [
       "<div>\n",
       "<style scoped>\n",
       "    .dataframe tbody tr th:only-of-type {\n",
       "        vertical-align: middle;\n",
       "    }\n",
       "\n",
       "    .dataframe tbody tr th {\n",
       "        vertical-align: top;\n",
       "    }\n",
       "\n",
       "    .dataframe thead th {\n",
       "        text-align: right;\n",
       "    }\n",
       "</style>\n",
       "<table border=\"1\" class=\"dataframe\">\n",
       "  <thead>\n",
       "    <tr style=\"text-align: right;\">\n",
       "      <th></th>\n",
       "      <th>Patient_ID</th>\n",
       "      <th>Age</th>\n",
       "      <th>Gender</th>\n",
       "      <th>Protein1</th>\n",
       "      <th>Protein2</th>\n",
       "      <th>Protein3</th>\n",
       "      <th>Protein4</th>\n",
       "      <th>Tumour_Stage</th>\n",
       "      <th>Histology</th>\n",
       "      <th>ER status</th>\n",
       "      <th>PR status</th>\n",
       "      <th>HER2 status</th>\n",
       "      <th>Surgery_type</th>\n",
       "      <th>Date_of_Surgery</th>\n",
       "      <th>Date_of_Last_Visit</th>\n",
       "      <th>Patient_Status</th>\n",
       "    </tr>\n",
       "  </thead>\n",
       "  <tbody>\n",
       "    <tr>\n",
       "      <th>335</th>\n",
       "      <td>NaN</td>\n",
       "      <td>NaN</td>\n",
       "      <td>NaN</td>\n",
       "      <td>NaN</td>\n",
       "      <td>NaN</td>\n",
       "      <td>NaN</td>\n",
       "      <td>NaN</td>\n",
       "      <td>NaN</td>\n",
       "      <td>NaN</td>\n",
       "      <td>NaN</td>\n",
       "      <td>NaN</td>\n",
       "      <td>NaN</td>\n",
       "      <td>NaN</td>\n",
       "      <td>NaN</td>\n",
       "      <td>NaN</td>\n",
       "      <td>NaN</td>\n",
       "    </tr>\n",
       "    <tr>\n",
       "      <th>336</th>\n",
       "      <td>NaN</td>\n",
       "      <td>NaN</td>\n",
       "      <td>NaN</td>\n",
       "      <td>NaN</td>\n",
       "      <td>NaN</td>\n",
       "      <td>NaN</td>\n",
       "      <td>NaN</td>\n",
       "      <td>NaN</td>\n",
       "      <td>NaN</td>\n",
       "      <td>NaN</td>\n",
       "      <td>NaN</td>\n",
       "      <td>NaN</td>\n",
       "      <td>NaN</td>\n",
       "      <td>NaN</td>\n",
       "      <td>NaN</td>\n",
       "      <td>NaN</td>\n",
       "    </tr>\n",
       "    <tr>\n",
       "      <th>337</th>\n",
       "      <td>NaN</td>\n",
       "      <td>NaN</td>\n",
       "      <td>NaN</td>\n",
       "      <td>NaN</td>\n",
       "      <td>NaN</td>\n",
       "      <td>NaN</td>\n",
       "      <td>NaN</td>\n",
       "      <td>NaN</td>\n",
       "      <td>NaN</td>\n",
       "      <td>NaN</td>\n",
       "      <td>NaN</td>\n",
       "      <td>NaN</td>\n",
       "      <td>NaN</td>\n",
       "      <td>NaN</td>\n",
       "      <td>NaN</td>\n",
       "      <td>NaN</td>\n",
       "    </tr>\n",
       "    <tr>\n",
       "      <th>338</th>\n",
       "      <td>NaN</td>\n",
       "      <td>NaN</td>\n",
       "      <td>NaN</td>\n",
       "      <td>NaN</td>\n",
       "      <td>NaN</td>\n",
       "      <td>NaN</td>\n",
       "      <td>NaN</td>\n",
       "      <td>NaN</td>\n",
       "      <td>NaN</td>\n",
       "      <td>NaN</td>\n",
       "      <td>NaN</td>\n",
       "      <td>NaN</td>\n",
       "      <td>NaN</td>\n",
       "      <td>NaN</td>\n",
       "      <td>NaN</td>\n",
       "      <td>NaN</td>\n",
       "    </tr>\n",
       "    <tr>\n",
       "      <th>339</th>\n",
       "      <td>NaN</td>\n",
       "      <td>NaN</td>\n",
       "      <td>NaN</td>\n",
       "      <td>NaN</td>\n",
       "      <td>NaN</td>\n",
       "      <td>NaN</td>\n",
       "      <td>NaN</td>\n",
       "      <td>NaN</td>\n",
       "      <td>NaN</td>\n",
       "      <td>NaN</td>\n",
       "      <td>NaN</td>\n",
       "      <td>NaN</td>\n",
       "      <td>NaN</td>\n",
       "      <td>NaN</td>\n",
       "      <td>NaN</td>\n",
       "      <td>NaN</td>\n",
       "    </tr>\n",
       "    <tr>\n",
       "      <th>340</th>\n",
       "      <td>NaN</td>\n",
       "      <td>NaN</td>\n",
       "      <td>NaN</td>\n",
       "      <td>NaN</td>\n",
       "      <td>NaN</td>\n",
       "      <td>NaN</td>\n",
       "      <td>NaN</td>\n",
       "      <td>NaN</td>\n",
       "      <td>NaN</td>\n",
       "      <td>NaN</td>\n",
       "      <td>NaN</td>\n",
       "      <td>NaN</td>\n",
       "      <td>NaN</td>\n",
       "      <td>NaN</td>\n",
       "      <td>NaN</td>\n",
       "      <td>NaN</td>\n",
       "    </tr>\n",
       "  </tbody>\n",
       "</table>\n",
       "</div>"
      ],
      "text/plain": [
       "    Patient_ID  Age Gender  Protein1  Protein2  Protein3  Protein4  \\\n",
       "335        NaN  NaN    NaN       NaN       NaN       NaN       NaN   \n",
       "336        NaN  NaN    NaN       NaN       NaN       NaN       NaN   \n",
       "337        NaN  NaN    NaN       NaN       NaN       NaN       NaN   \n",
       "338        NaN  NaN    NaN       NaN       NaN       NaN       NaN   \n",
       "339        NaN  NaN    NaN       NaN       NaN       NaN       NaN   \n",
       "340        NaN  NaN    NaN       NaN       NaN       NaN       NaN   \n",
       "\n",
       "    Tumour_Stage Histology ER status PR status HER2 status Surgery_type  \\\n",
       "335          NaN       NaN       NaN       NaN         NaN          NaN   \n",
       "336          NaN       NaN       NaN       NaN         NaN          NaN   \n",
       "337          NaN       NaN       NaN       NaN         NaN          NaN   \n",
       "338          NaN       NaN       NaN       NaN         NaN          NaN   \n",
       "339          NaN       NaN       NaN       NaN         NaN          NaN   \n",
       "340          NaN       NaN       NaN       NaN         NaN          NaN   \n",
       "\n",
       "    Date_of_Surgery Date_of_Last_Visit Patient_Status  \n",
       "335             NaN                NaN            NaN  \n",
       "336             NaN                NaN            NaN  \n",
       "337             NaN                NaN            NaN  \n",
       "338             NaN                NaN            NaN  \n",
       "339             NaN                NaN            NaN  \n",
       "340             NaN                NaN            NaN  "
      ]
     },
     "execution_count": 8,
     "metadata": {},
     "output_type": "execute_result"
    }
   ],
   "source": [
    "df.loc[df.duplicated()]"
   ]
  },
  {
   "cell_type": "code",
   "execution_count": 9,
   "metadata": {},
   "outputs": [
    {
     "data": {
      "text/html": [
       "<div>\n",
       "<style scoped>\n",
       "    .dataframe tbody tr th:only-of-type {\n",
       "        vertical-align: middle;\n",
       "    }\n",
       "\n",
       "    .dataframe tbody tr th {\n",
       "        vertical-align: top;\n",
       "    }\n",
       "\n",
       "    .dataframe thead th {\n",
       "        text-align: right;\n",
       "    }\n",
       "</style>\n",
       "<table border=\"1\" class=\"dataframe\">\n",
       "  <thead>\n",
       "    <tr style=\"text-align: right;\">\n",
       "      <th></th>\n",
       "      <th>Patient_ID</th>\n",
       "      <th>Age</th>\n",
       "      <th>Gender</th>\n",
       "      <th>Protein1</th>\n",
       "      <th>Protein2</th>\n",
       "      <th>Protein3</th>\n",
       "      <th>Protein4</th>\n",
       "      <th>Tumour_Stage</th>\n",
       "      <th>Histology</th>\n",
       "      <th>ER status</th>\n",
       "      <th>PR status</th>\n",
       "      <th>HER2 status</th>\n",
       "      <th>Surgery_type</th>\n",
       "      <th>Date_of_Surgery</th>\n",
       "      <th>Date_of_Last_Visit</th>\n",
       "      <th>Patient_Status</th>\n",
       "    </tr>\n",
       "  </thead>\n",
       "  <tbody>\n",
       "    <tr>\n",
       "      <th>333</th>\n",
       "      <td>TCGA-B6-A40B</td>\n",
       "      <td>76.0</td>\n",
       "      <td>FEMALE</td>\n",
       "      <td>-0.24427</td>\n",
       "      <td>0.92556</td>\n",
       "      <td>-0.41823</td>\n",
       "      <td>-0.067848</td>\n",
       "      <td>I</td>\n",
       "      <td>Infiltrating Ductal Carcinoma</td>\n",
       "      <td>Positive</td>\n",
       "      <td>Positive</td>\n",
       "      <td>Negative</td>\n",
       "      <td>Lumpectomy</td>\n",
       "      <td>11-Nov-19</td>\n",
       "      <td>05-Jan-21</td>\n",
       "      <td>Dead</td>\n",
       "    </tr>\n",
       "    <tr>\n",
       "      <th>334</th>\n",
       "      <td>NaN</td>\n",
       "      <td>NaN</td>\n",
       "      <td>NaN</td>\n",
       "      <td>NaN</td>\n",
       "      <td>NaN</td>\n",
       "      <td>NaN</td>\n",
       "      <td>NaN</td>\n",
       "      <td>NaN</td>\n",
       "      <td>NaN</td>\n",
       "      <td>NaN</td>\n",
       "      <td>NaN</td>\n",
       "      <td>NaN</td>\n",
       "      <td>NaN</td>\n",
       "      <td>NaN</td>\n",
       "      <td>NaN</td>\n",
       "      <td>NaN</td>\n",
       "    </tr>\n",
       "    <tr>\n",
       "      <th>335</th>\n",
       "      <td>NaN</td>\n",
       "      <td>NaN</td>\n",
       "      <td>NaN</td>\n",
       "      <td>NaN</td>\n",
       "      <td>NaN</td>\n",
       "      <td>NaN</td>\n",
       "      <td>NaN</td>\n",
       "      <td>NaN</td>\n",
       "      <td>NaN</td>\n",
       "      <td>NaN</td>\n",
       "      <td>NaN</td>\n",
       "      <td>NaN</td>\n",
       "      <td>NaN</td>\n",
       "      <td>NaN</td>\n",
       "      <td>NaN</td>\n",
       "      <td>NaN</td>\n",
       "    </tr>\n",
       "    <tr>\n",
       "      <th>336</th>\n",
       "      <td>NaN</td>\n",
       "      <td>NaN</td>\n",
       "      <td>NaN</td>\n",
       "      <td>NaN</td>\n",
       "      <td>NaN</td>\n",
       "      <td>NaN</td>\n",
       "      <td>NaN</td>\n",
       "      <td>NaN</td>\n",
       "      <td>NaN</td>\n",
       "      <td>NaN</td>\n",
       "      <td>NaN</td>\n",
       "      <td>NaN</td>\n",
       "      <td>NaN</td>\n",
       "      <td>NaN</td>\n",
       "      <td>NaN</td>\n",
       "      <td>NaN</td>\n",
       "    </tr>\n",
       "    <tr>\n",
       "      <th>337</th>\n",
       "      <td>NaN</td>\n",
       "      <td>NaN</td>\n",
       "      <td>NaN</td>\n",
       "      <td>NaN</td>\n",
       "      <td>NaN</td>\n",
       "      <td>NaN</td>\n",
       "      <td>NaN</td>\n",
       "      <td>NaN</td>\n",
       "      <td>NaN</td>\n",
       "      <td>NaN</td>\n",
       "      <td>NaN</td>\n",
       "      <td>NaN</td>\n",
       "      <td>NaN</td>\n",
       "      <td>NaN</td>\n",
       "      <td>NaN</td>\n",
       "      <td>NaN</td>\n",
       "    </tr>\n",
       "    <tr>\n",
       "      <th>338</th>\n",
       "      <td>NaN</td>\n",
       "      <td>NaN</td>\n",
       "      <td>NaN</td>\n",
       "      <td>NaN</td>\n",
       "      <td>NaN</td>\n",
       "      <td>NaN</td>\n",
       "      <td>NaN</td>\n",
       "      <td>NaN</td>\n",
       "      <td>NaN</td>\n",
       "      <td>NaN</td>\n",
       "      <td>NaN</td>\n",
       "      <td>NaN</td>\n",
       "      <td>NaN</td>\n",
       "      <td>NaN</td>\n",
       "      <td>NaN</td>\n",
       "      <td>NaN</td>\n",
       "    </tr>\n",
       "    <tr>\n",
       "      <th>339</th>\n",
       "      <td>NaN</td>\n",
       "      <td>NaN</td>\n",
       "      <td>NaN</td>\n",
       "      <td>NaN</td>\n",
       "      <td>NaN</td>\n",
       "      <td>NaN</td>\n",
       "      <td>NaN</td>\n",
       "      <td>NaN</td>\n",
       "      <td>NaN</td>\n",
       "      <td>NaN</td>\n",
       "      <td>NaN</td>\n",
       "      <td>NaN</td>\n",
       "      <td>NaN</td>\n",
       "      <td>NaN</td>\n",
       "      <td>NaN</td>\n",
       "      <td>NaN</td>\n",
       "    </tr>\n",
       "    <tr>\n",
       "      <th>340</th>\n",
       "      <td>NaN</td>\n",
       "      <td>NaN</td>\n",
       "      <td>NaN</td>\n",
       "      <td>NaN</td>\n",
       "      <td>NaN</td>\n",
       "      <td>NaN</td>\n",
       "      <td>NaN</td>\n",
       "      <td>NaN</td>\n",
       "      <td>NaN</td>\n",
       "      <td>NaN</td>\n",
       "      <td>NaN</td>\n",
       "      <td>NaN</td>\n",
       "      <td>NaN</td>\n",
       "      <td>NaN</td>\n",
       "      <td>NaN</td>\n",
       "      <td>NaN</td>\n",
       "    </tr>\n",
       "  </tbody>\n",
       "</table>\n",
       "</div>"
      ],
      "text/plain": [
       "       Patient_ID   Age  Gender  Protein1  Protein2  Protein3  Protein4  \\\n",
       "333  TCGA-B6-A40B  76.0  FEMALE  -0.24427   0.92556  -0.41823 -0.067848   \n",
       "334           NaN   NaN     NaN       NaN       NaN       NaN       NaN   \n",
       "335           NaN   NaN     NaN       NaN       NaN       NaN       NaN   \n",
       "336           NaN   NaN     NaN       NaN       NaN       NaN       NaN   \n",
       "337           NaN   NaN     NaN       NaN       NaN       NaN       NaN   \n",
       "338           NaN   NaN     NaN       NaN       NaN       NaN       NaN   \n",
       "339           NaN   NaN     NaN       NaN       NaN       NaN       NaN   \n",
       "340           NaN   NaN     NaN       NaN       NaN       NaN       NaN   \n",
       "\n",
       "    Tumour_Stage                      Histology ER status PR status  \\\n",
       "333            I  Infiltrating Ductal Carcinoma  Positive  Positive   \n",
       "334          NaN                            NaN       NaN       NaN   \n",
       "335          NaN                            NaN       NaN       NaN   \n",
       "336          NaN                            NaN       NaN       NaN   \n",
       "337          NaN                            NaN       NaN       NaN   \n",
       "338          NaN                            NaN       NaN       NaN   \n",
       "339          NaN                            NaN       NaN       NaN   \n",
       "340          NaN                            NaN       NaN       NaN   \n",
       "\n",
       "    HER2 status Surgery_type Date_of_Surgery Date_of_Last_Visit Patient_Status  \n",
       "333    Negative   Lumpectomy       11-Nov-19          05-Jan-21           Dead  \n",
       "334         NaN          NaN             NaN                NaN            NaN  \n",
       "335         NaN          NaN             NaN                NaN            NaN  \n",
       "336         NaN          NaN             NaN                NaN            NaN  \n",
       "337         NaN          NaN             NaN                NaN            NaN  \n",
       "338         NaN          NaN             NaN                NaN            NaN  \n",
       "339         NaN          NaN             NaN                NaN            NaN  \n",
       "340         NaN          NaN             NaN                NaN            NaN  "
      ]
     },
     "execution_count": 9,
     "metadata": {},
     "output_type": "execute_result"
    }
   ],
   "source": [
    "df.loc[df.index[-8:]]"
   ]
  },
  {
   "cell_type": "markdown",
   "metadata": {},
   "source": [
    "#### going to drop the last 7 rows from all columns as they are just NaN values"
   ]
  },
  {
   "cell_type": "code",
   "execution_count": 10,
   "metadata": {},
   "outputs": [],
   "source": [
    "df.drop(df.index[-7:], inplace=True)"
   ]
  },
  {
   "cell_type": "code",
   "execution_count": 11,
   "metadata": {},
   "outputs": [
    {
     "data": {
      "text/plain": [
       "Patient_ID            0.000000\n",
       "Age                   0.000000\n",
       "Gender                0.000000\n",
       "Protein1              0.000000\n",
       "Protein2              0.000000\n",
       "Protein3              0.000000\n",
       "Protein4              0.000000\n",
       "Tumour_Stage          0.000000\n",
       "Histology             0.000000\n",
       "ER status             0.000000\n",
       "PR status             0.000000\n",
       "HER2 status           0.000000\n",
       "Surgery_type          0.000000\n",
       "Date_of_Surgery       0.000000\n",
       "Date_of_Last_Visit    5.089820\n",
       "Patient_Status        3.892216\n",
       "dtype: float64"
      ]
     },
     "execution_count": 11,
     "metadata": {},
     "output_type": "execute_result"
    }
   ],
   "source": [
    "df.isna().sum()/len(df)*100 "
   ]
  },
  {
   "cell_type": "markdown",
   "metadata": {},
   "source": [
    "#### Number of null values in patient status is less than 5, so going to drop those rows"
   ]
  },
  {
   "cell_type": "code",
   "execution_count": 12,
   "metadata": {},
   "outputs": [],
   "source": [
    "df.dropna(subset=['Patient_Status'], inplace =True)\n"
   ]
  },
  {
   "cell_type": "markdown",
   "metadata": {},
   "source": [
    "#### 13 empty patient rows are now dropped"
   ]
  },
  {
   "cell_type": "markdown",
   "metadata": {},
   "source": [
    "#### check data distribution"
   ]
  },
  {
   "cell_type": "code",
   "execution_count": 13,
   "metadata": {},
   "outputs": [
    {
     "data": {
      "text/plain": [
       "<Axes: xlabel='Gender', ylabel='count'>"
      ]
     },
     "execution_count": 13,
     "metadata": {},
     "output_type": "execute_result"
    },
    {
     "data": {
      "image/png": "[encoded data removed]",
      "text/plain": [
       "<Figure size 640x480 with 1 Axes>"
      ]
     },
     "metadata": {},
     "output_type": "display_data"
    }
   ],
   "source": [
    "#df['Gender'].value_counts().plot(kind='bar')\n",
    "sns.countplot(data= df ,x=df['Gender'], hue=df['Patient_Status'])\n"
   ]
  },
  {
   "cell_type": "markdown",
   "metadata": {},
   "source": [
    "#### We can observe that the gender disctribution is very skewed"
   ]
  },
  {
   "cell_type": "code",
   "execution_count": 14,
   "metadata": {},
   "outputs": [
    {
     "data": {
      "text/plain": [
       "<Axes: xlabel='Tumour_Stage', ylabel='count'>"
      ]
     },
     "execution_count": 14,
     "metadata": {},
     "output_type": "execute_result"
    },
    {
     "data": {
      "image/png": "[encoded data removed]",
      "text/plain": [
       "<Figure size 640x480 with 1 Axes>"
      ]
     },
     "metadata": {},
     "output_type": "display_data"
    }
   ],
   "source": [
    "#df['Tumour_Stage'].value_counts().plot(kind='bar')\n",
    "sns.countplot(data=df, x= df['Tumour_Stage'],hue=df['Patient_Status'])"
   ]
  },
  {
   "cell_type": "code",
   "execution_count": 15,
   "metadata": {},
   "outputs": [
    {
     "data": {
      "text/plain": [
       "(array([0, 1, 2]),\n",
       " [Text(0, 0, 'Infiltrating Ductal Carcinoma'),\n",
       "  Text(1, 0, 'Mucinous Carcinoma'),\n",
       "  Text(2, 0, 'Infiltrating Lobular Carcinoma')])"
      ]
     },
     "execution_count": 15,
     "metadata": {},
     "output_type": "execute_result"
    },
    {
     "data": {
      "image/png": "[encoded data removed]",
      "text/plain": [
       "<Figure size 640x480 with 1 Axes>"
      ]
     },
     "metadata": {},
     "output_type": "display_data"
    }
   ],
   "source": [
    "df['Histology'].value_counts()\n",
    "sns.countplot(data=df, x= df['Histology'])\n",
    "plt.xticks(rotation=90)"
   ]
  },
  {
   "cell_type": "code",
   "execution_count": 16,
   "metadata": {},
   "outputs": [
    {
     "data": {
      "text/plain": [
       "(array([0, 1]), [Text(0, 0, 'Alive'), Text(1, 0, 'Dead')])"
      ]
     },
     "execution_count": 16,
     "metadata": {},
     "output_type": "execute_result"
    },
    {
     "data": {
      "image/png": "[encoded data removed]",
      "text/plain": [
       "<Figure size 640x480 with 1 Axes>"
      ]
     },
     "metadata": {},
     "output_type": "display_data"
    }
   ],
   "source": [
    "df['Patient_Status'].value_counts()\n",
    "sns.countplot(data=df, x= df['Patient_Status'])\n",
    "plt.xticks(rotation=90)"
   ]
  },
  {
   "cell_type": "markdown",
   "metadata": {},
   "source": [
    "#### the target label distribution is very imbalanced"
   ]
  },
  {
   "cell_type": "code",
   "execution_count": 17,
   "metadata": {},
   "outputs": [
    {
     "data": {
      "text/plain": [
       "['Patient_ID',\n",
       " 'Gender',\n",
       " 'Tumour_Stage',\n",
       " 'Histology',\n",
       " 'ER status',\n",
       " 'PR status',\n",
       " 'HER2 status',\n",
       " 'Surgery_type',\n",
       " 'Date_of_Surgery',\n",
       " 'Date_of_Last_Visit',\n",
       " 'Patient_Status']"
      ]
     },
     "execution_count": 17,
     "metadata": {},
     "output_type": "execute_result"
    }
   ],
   "source": [
    "num_cols = df.select_dtypes(include=np.number).columns.to_list()\n",
    "cat_cols = df.select_dtypes(exclude=np.number).columns.to_list()\n",
    "cat_cols"
   ]
  },
  {
   "cell_type": "code",
   "execution_count": 18,
   "metadata": {},
   "outputs": [
    {
     "data": {
      "image/png": "[encoded data removed]",
      "text/plain": [
       "<Figure size 500x500 with 1 Axes>"
      ]
     },
     "metadata": {},
     "output_type": "display_data"
    },
    {
     "data": {
      "image/png": "[encoded data removed]",
      "text/plain": [
       "<Figure size 500x500 with 1 Axes>"
      ]
     },
     "metadata": {},
     "output_type": "display_data"
    },
    {
     "data": {
      "image/png": "[encoded data removed]",
      "text/plain": [
       "<Figure size 500x500 with 1 Axes>"
      ]
     },
     "metadata": {},
     "output_type": "display_data"
    },
    {
     "data": {
      "image/png": "[encoded data removed]",
      "text/plain": [
       "<Figure size 500x500 with 1 Axes>"
      ]
     },
     "metadata": {},
     "output_type": "display_data"
    },
    {
     "data": {
      "image/png": "[encoded data removed]",
      "text/plain": [
       "<Figure size 500x500 with 1 Axes>"
      ]
     },
     "metadata": {},
     "output_type": "display_data"
    }
   ],
   "source": [
    "for col in num_cols:\n",
    "    sns.displot(data=df, x=df[col])"
   ]
  },
  {
   "cell_type": "markdown",
   "metadata": {},
   "source": [
    "#### Although target column has imbalanced data, I will first build a model based on actual data and then perform downsampling/upsampling to compare the results"
   ]
  },
  {
   "cell_type": "code",
   "execution_count": 19,
   "metadata": {},
   "outputs": [
    {
     "data": {
      "text/plain": [
       "Index(['Patient_ID', 'Age', 'Gender', 'Protein1', 'Protein2', 'Protein3',\n",
       "       'Protein4', 'Tumour_Stage', 'Histology', 'ER status', 'PR status',\n",
       "       'HER2 status', 'Surgery_type', 'Date_of_Surgery', 'Date_of_Last_Visit',\n",
       "       'Patient_Status'],\n",
       "      dtype='object')"
      ]
     },
     "execution_count": 19,
     "metadata": {},
     "output_type": "execute_result"
    }
   ],
   "source": [
    "df.columns\n"
   ]
  },
  {
   "cell_type": "code",
   "execution_count": 20,
   "metadata": {},
   "outputs": [
    {
     "data": {
      "text/html": [
       "<div>\n",
       "<style scoped>\n",
       "    .dataframe tbody tr th:only-of-type {\n",
       "        vertical-align: middle;\n",
       "    }\n",
       "\n",
       "    .dataframe tbody tr th {\n",
       "        vertical-align: top;\n",
       "    }\n",
       "\n",
       "    .dataframe thead th {\n",
       "        text-align: right;\n",
       "    }\n",
       "</style>\n",
       "<table border=\"1\" class=\"dataframe\">\n",
       "  <thead>\n",
       "    <tr style=\"text-align: right;\">\n",
       "      <th></th>\n",
       "      <th>Age</th>\n",
       "      <th>Gender</th>\n",
       "      <th>Protein1</th>\n",
       "      <th>Protein2</th>\n",
       "      <th>Protein3</th>\n",
       "      <th>Protein4</th>\n",
       "      <th>Tumour_Stage</th>\n",
       "      <th>Histology</th>\n",
       "      <th>ER status</th>\n",
       "      <th>PR status</th>\n",
       "      <th>HER2 status</th>\n",
       "      <th>Surgery_type</th>\n",
       "    </tr>\n",
       "  </thead>\n",
       "  <tbody>\n",
       "    <tr>\n",
       "      <th>0</th>\n",
       "      <td>36.0</td>\n",
       "      <td>FEMALE</td>\n",
       "      <td>0.080353</td>\n",
       "      <td>0.42638</td>\n",
       "      <td>0.54715</td>\n",
       "      <td>0.273680</td>\n",
       "      <td>III</td>\n",
       "      <td>Infiltrating Ductal Carcinoma</td>\n",
       "      <td>Positive</td>\n",
       "      <td>Positive</td>\n",
       "      <td>Negative</td>\n",
       "      <td>Modified Radical Mastectomy</td>\n",
       "    </tr>\n",
       "    <tr>\n",
       "      <th>1</th>\n",
       "      <td>43.0</td>\n",
       "      <td>FEMALE</td>\n",
       "      <td>-0.420320</td>\n",
       "      <td>0.57807</td>\n",
       "      <td>0.61447</td>\n",
       "      <td>-0.031505</td>\n",
       "      <td>II</td>\n",
       "      <td>Mucinous Carcinoma</td>\n",
       "      <td>Positive</td>\n",
       "      <td>Positive</td>\n",
       "      <td>Negative</td>\n",
       "      <td>Lumpectomy</td>\n",
       "    </tr>\n",
       "    <tr>\n",
       "      <th>2</th>\n",
       "      <td>69.0</td>\n",
       "      <td>FEMALE</td>\n",
       "      <td>0.213980</td>\n",
       "      <td>1.31140</td>\n",
       "      <td>-0.32747</td>\n",
       "      <td>-0.234260</td>\n",
       "      <td>III</td>\n",
       "      <td>Infiltrating Ductal Carcinoma</td>\n",
       "      <td>Positive</td>\n",
       "      <td>Positive</td>\n",
       "      <td>Negative</td>\n",
       "      <td>Other</td>\n",
       "    </tr>\n",
       "    <tr>\n",
       "      <th>3</th>\n",
       "      <td>56.0</td>\n",
       "      <td>FEMALE</td>\n",
       "      <td>0.345090</td>\n",
       "      <td>-0.21147</td>\n",
       "      <td>-0.19304</td>\n",
       "      <td>0.124270</td>\n",
       "      <td>II</td>\n",
       "      <td>Infiltrating Ductal Carcinoma</td>\n",
       "      <td>Positive</td>\n",
       "      <td>Positive</td>\n",
       "      <td>Negative</td>\n",
       "      <td>Modified Radical Mastectomy</td>\n",
       "    </tr>\n",
       "    <tr>\n",
       "      <th>4</th>\n",
       "      <td>56.0</td>\n",
       "      <td>FEMALE</td>\n",
       "      <td>0.221550</td>\n",
       "      <td>1.90680</td>\n",
       "      <td>0.52045</td>\n",
       "      <td>-0.311990</td>\n",
       "      <td>II</td>\n",
       "      <td>Infiltrating Ductal Carcinoma</td>\n",
       "      <td>Positive</td>\n",
       "      <td>Positive</td>\n",
       "      <td>Negative</td>\n",
       "      <td>Other</td>\n",
       "    </tr>\n",
       "  </tbody>\n",
       "</table>\n",
       "</div>"
      ],
      "text/plain": [
       "    Age  Gender  Protein1  Protein2  Protein3  Protein4 Tumour_Stage  \\\n",
       "0  36.0  FEMALE  0.080353   0.42638   0.54715  0.273680          III   \n",
       "1  43.0  FEMALE -0.420320   0.57807   0.61447 -0.031505           II   \n",
       "2  69.0  FEMALE  0.213980   1.31140  -0.32747 -0.234260          III   \n",
       "3  56.0  FEMALE  0.345090  -0.21147  -0.19304  0.124270           II   \n",
       "4  56.0  FEMALE  0.221550   1.90680   0.52045 -0.311990           II   \n",
       "\n",
       "                       Histology ER status PR status HER2 status  \\\n",
       "0  Infiltrating Ductal Carcinoma  Positive  Positive    Negative   \n",
       "1             Mucinous Carcinoma  Positive  Positive    Negative   \n",
       "2  Infiltrating Ductal Carcinoma  Positive  Positive    Negative   \n",
       "3  Infiltrating Ductal Carcinoma  Positive  Positive    Negative   \n",
       "4  Infiltrating Ductal Carcinoma  Positive  Positive    Negative   \n",
       "\n",
       "                  Surgery_type  \n",
       "0  Modified Radical Mastectomy  \n",
       "1                   Lumpectomy  \n",
       "2                        Other  \n",
       "3  Modified Radical Mastectomy  \n",
       "4                        Other  "
      ]
     },
     "execution_count": 20,
     "metadata": {},
     "output_type": "execute_result"
    }
   ],
   "source": [
    "X = df.drop(['Patient_ID','Date_of_Surgery','Date_of_Last_Visit','Patient_Status'],axis=1)\n",
    "Y = df['Patient_Status']\n",
    "X.head()"
   ]
  },
  {
   "cell_type": "markdown",
   "metadata": {},
   "source": [
    "#### I will do train test split that is stratified on the target column to ensure that both traning data and testing data have equal proportion of both the classes of Patient Status"
   ]
  },
  {
   "cell_type": "code",
   "execution_count": 21,
   "metadata": {},
   "outputs": [],
   "source": [
    "X_train, X_test, Y_train, Y_test = train_test_split(X,Y, stratify=Y, test_size=0.2,random_state=42)"
   ]
  },
  {
   "cell_type": "code",
   "execution_count": 22,
   "metadata": {},
   "outputs": [
    {
     "name": "stdout",
     "output_type": "stream",
     "text": [
      "['Gender', 'Tumour_Stage', 'Histology', 'ER status', 'PR status', 'HER2 status', 'Surgery_type'] ['Age', 'Protein1', 'Protein2', 'Protein3', 'Protein4']\n"
     ]
    }
   ],
   "source": [
    "cat_cols = X_train.select_dtypes(exclude=np.number).columns.to_list()\n",
    "print(cat_cols, num_cols)"
   ]
  },
  {
   "cell_type": "code",
   "execution_count": 23,
   "metadata": {},
   "outputs": [],
   "source": [
    "ohe_cols = ['Histology','Surgery_type']\n",
    "ordinal_cols = ['Gender', 'Tumour_Stage', 'ER status', 'PR status', 'HER2 status']"
   ]
  },
  {
   "cell_type": "code",
   "execution_count": 24,
   "metadata": {},
   "outputs": [
    {
     "data": {
      "text/plain": [
       "array(['Other', 'Simple Mastectomy', 'Modified Radical Mastectomy',\n",
       "       'Lumpectomy'], dtype=object)"
      ]
     },
     "execution_count": 24,
     "metadata": {},
     "output_type": "execute_result"
    }
   ],
   "source": [
    "X_train['Histology'].unique() #2 cols after OHE\n",
    "X_train['Surgery_type'].unique()#3 cols after OHE\n"
   ]
  },
  {
   "cell_type": "markdown",
   "metadata": {},
   "source": [
    "#### So expecting 15 columns in total after transformation 5 numerical cols, 5 ordinal columns, 2 cols from OHE of histology and 3 cols from OHE of Surgery Type"
   ]
  },
  {
   "cell_type": "code",
   "execution_count": 25,
   "metadata": {},
   "outputs": [],
   "source": [
    "preprocessor = ColumnTransformer(transformers=[\n",
    "    ('tumor_tfr',OrdinalEncoder(categories=[['I','II','III']]),['Tumour_Stage']),\n",
    "    ('gender_tfr',OrdinalEncoder(),['Gender', 'ER status', 'PR status', 'HER2 status']),\n",
    "    ('num_tfr',StandardScaler(),num_cols),\n",
    "    ('ohe_tfr',OneHotEncoder(sparse=False,handle_unknown='ignore',drop='first'),ohe_cols)\n",
    "])"
   ]
  },
  {
   "cell_type": "code",
   "execution_count": 26,
   "metadata": {},
   "outputs": [
    {
     "name": "stderr",
     "output_type": "stream",
     "text": [
      "c:\\Users\\nidhi\\anaconda3\\lib\\site-packages\\sklearn\\preprocessing\\_encoders.py:828: FutureWarning: `sparse` was renamed to `sparse_output` in version 1.2 and will be removed in 1.4. `sparse_output` is ignored unless you leave `sparse` to its default value.\n",
      "  warnings.warn(\n"
     ]
    }
   ],
   "source": [
    "X_preprocessed= preprocessor.fit_transform(X_train)"
   ]
  },
  {
   "cell_type": "code",
   "execution_count": 27,
   "metadata": {},
   "outputs": [
    {
     "data": {
      "text/plain": [
       "array(['Histology_Infiltrating Lobular Carcinoma',\n",
       "       'Histology_Mucinous Carcinoma',\n",
       "       'Surgery_type_Modified Radical Mastectomy', 'Surgery_type_Other',\n",
       "       'Surgery_type_Simple Mastectomy'], dtype=object)"
      ]
     },
     "execution_count": 27,
     "metadata": {},
     "output_type": "execute_result"
    }
   ],
   "source": [
    "preprocessor.named_transformers_['ohe_tfr'].get_feature_names_out()"
   ]
  },
  {
   "cell_type": "code",
   "execution_count": 28,
   "metadata": {},
   "outputs": [
    {
     "data": {
      "text/plain": [
       "array([ 5.90039062e+01, -1.63711842e-02,  9.42567532e-01, -7.25056000e-02,\n",
       "        2.10540674e-02])"
      ]
     },
     "execution_count": 28,
     "metadata": {},
     "output_type": "execute_result"
    }
   ],
   "source": [
    "preprocessor.named_transformers_['num_tfr'].mean_"
   ]
  },
  {
   "cell_type": "code",
   "execution_count": 29,
   "metadata": {},
   "outputs": [
    {
     "data": {
      "text/plain": [
       "[array(['FEMALE', 'MALE'], dtype=object),\n",
       " array(['Positive'], dtype=object),\n",
       " array(['Positive'], dtype=object),\n",
       " array(['Negative', 'Positive'], dtype=object)]"
      ]
     },
     "execution_count": 29,
     "metadata": {},
     "output_type": "execute_result"
    }
   ],
   "source": [
    "preprocessor.named_transformers_['gender_tfr'].categories_"
   ]
  },
  {
   "cell_type": "code",
   "execution_count": 30,
   "metadata": {},
   "outputs": [
    {
     "data": {
      "text/plain": [
       "[array(['I', 'II', 'III'], dtype=object)]"
      ]
     },
     "execution_count": 30,
     "metadata": {},
     "output_type": "execute_result"
    }
   ],
   "source": [
    "preprocessor.named_transformers_['tumor_tfr'].categories_"
   ]
  },
  {
   "cell_type": "code",
   "execution_count": 31,
   "metadata": {},
   "outputs": [
    {
     "data": {
      "text/plain": [
       "(256, 15)"
      ]
     },
     "execution_count": 31,
     "metadata": {},
     "output_type": "execute_result"
    }
   ],
   "source": [
    "X_preprocessed.shape"
   ]
  },
  {
   "cell_type": "markdown",
   "metadata": {},
   "source": [
    "#### There are some columns which have same value in all rows such ER Status and PR Status. I will perform PCA to remove such columns as well as reduce the dimensionality by removing less useful columns"
   ]
  },
  {
   "cell_type": "code",
   "execution_count": 32,
   "metadata": {},
   "outputs": [],
   "source": [
    "pipe = Pipeline(steps=[\n",
    "    ('preprocess',preprocessor),\n",
    "    ('pca',PCA(n_components=12))\n",
    "\n",
    "])"
   ]
  },
  {
   "cell_type": "code",
   "execution_count": 33,
   "metadata": {},
   "outputs": [
    {
     "name": "stderr",
     "output_type": "stream",
     "text": [
      "c:\\Users\\nidhi\\anaconda3\\lib\\site-packages\\sklearn\\preprocessing\\_encoders.py:828: FutureWarning: `sparse` was renamed to `sparse_output` in version 1.2 and will be removed in 1.4. `sparse_output` is ignored unless you leave `sparse` to its default value.\n",
      "  warnings.warn(\n"
     ]
    }
   ],
   "source": [
    "X_train_final = pipe.fit_transform(X_train)\n",
    "X_test_final = pipe.transform(X_test)"
   ]
  },
  {
   "cell_type": "code",
   "execution_count": 34,
   "metadata": {},
   "outputs": [],
   "source": [
    "le = LabelEncoder()\n",
    "Y_train_final = le.fit_transform(Y_train)\n",
    "Y_test_final = le.transform(Y_test)"
   ]
  },
  {
   "cell_type": "code",
   "execution_count": 35,
   "metadata": {},
   "outputs": [
    {
     "data": {
      "text/plain": [
       "array([0, 0, 0, 1, 0, 0, 0, 0, 0, 0, 1, 0, 0, 0, 0, 0, 0, 0, 0, 0, 1, 0,\n",
       "       0, 0, 0, 0, 0, 0, 0, 0, 0, 0, 0, 0, 0, 0, 0, 1, 1, 0, 0, 0, 0, 1,\n",
       "       0, 0, 1, 1, 0, 0, 1, 1, 0, 1, 0, 1, 0, 1, 1, 0, 0, 1, 0, 0, 1, 0,\n",
       "       0, 0, 0, 0, 0, 0, 0, 0, 0, 0, 0, 0, 0, 0, 1, 0, 1, 0, 0, 0, 0, 1,\n",
       "       0, 0, 0, 1, 1, 1, 0, 1, 0, 1, 0, 0, 0, 1, 0, 0, 0, 0, 0, 0, 0, 0,\n",
       "       0, 0, 0, 0, 0, 0, 1, 0, 0, 0, 0, 0, 1, 0, 1, 0, 1, 0, 0, 0, 0, 0,\n",
       "       0, 1, 1, 1, 0, 0, 0, 0, 0, 0, 0, 0, 0, 0, 1, 0, 0, 0, 0, 0, 0, 0,\n",
       "       1, 0, 1, 0, 0, 0, 0, 1, 0, 0, 1, 0, 0, 0, 0, 0, 0, 0, 0, 0, 0, 1,\n",
       "       0, 0, 0, 0, 0, 0, 1, 0, 1, 0, 0, 0, 0, 0, 0, 0, 0, 1, 0, 0, 0, 0,\n",
       "       0, 0, 0, 0, 0, 0, 0, 0, 0, 0, 1, 0, 0, 1, 0, 0, 0, 0, 0, 0, 0, 0,\n",
       "       1, 1, 0, 0, 0, 1, 0, 0, 0, 0, 0, 0, 1, 0, 0, 0, 0, 0, 0, 1, 1, 0,\n",
       "       0, 0, 0, 0, 1, 0, 0, 1, 0, 0, 1, 0, 0, 1])"
      ]
     },
     "execution_count": 35,
     "metadata": {},
     "output_type": "execute_result"
    }
   ],
   "source": [
    "Y_train_final"
   ]
  },
  {
   "cell_type": "markdown",
   "metadata": {},
   "source": [
    "#### Data preparation is now done and now I will start training the model on this prepared data, but first I want to identify whether the data is linear or non linear, I will check that using PC1 and PC0 of PCA"
   ]
  },
  {
   "cell_type": "code",
   "execution_count": 36,
   "metadata": {},
   "outputs": [
    {
     "data": {
      "text/html": [
       "<div>\n",
       "<style scoped>\n",
       "    .dataframe tbody tr th:only-of-type {\n",
       "        vertical-align: middle;\n",
       "    }\n",
       "\n",
       "    .dataframe tbody tr th {\n",
       "        vertical-align: top;\n",
       "    }\n",
       "\n",
       "    .dataframe thead th {\n",
       "        text-align: right;\n",
       "    }\n",
       "</style>\n",
       "<table border=\"1\" class=\"dataframe\">\n",
       "  <thead>\n",
       "    <tr style=\"text-align: right;\">\n",
       "      <th></th>\n",
       "      <th>0</th>\n",
       "      <th>1</th>\n",
       "      <th>2</th>\n",
       "      <th>3</th>\n",
       "    </tr>\n",
       "  </thead>\n",
       "  <tbody>\n",
       "    <tr>\n",
       "      <th>0</th>\n",
       "      <td>-0.226619</td>\n",
       "      <td>-0.495161</td>\n",
       "      <td>-0.097383</td>\n",
       "      <td>0</td>\n",
       "    </tr>\n",
       "    <tr>\n",
       "      <th>1</th>\n",
       "      <td>-0.516235</td>\n",
       "      <td>-1.325343</td>\n",
       "      <td>-1.248917</td>\n",
       "      <td>0</td>\n",
       "    </tr>\n",
       "    <tr>\n",
       "      <th>2</th>\n",
       "      <td>-0.462522</td>\n",
       "      <td>0.127502</td>\n",
       "      <td>0.083068</td>\n",
       "      <td>0</td>\n",
       "    </tr>\n",
       "    <tr>\n",
       "      <th>3</th>\n",
       "      <td>1.931896</td>\n",
       "      <td>-0.930833</td>\n",
       "      <td>-1.037631</td>\n",
       "      <td>1</td>\n",
       "    </tr>\n",
       "    <tr>\n",
       "      <th>4</th>\n",
       "      <td>-1.473490</td>\n",
       "      <td>-0.349077</td>\n",
       "      <td>0.843149</td>\n",
       "      <td>0</td>\n",
       "    </tr>\n",
       "  </tbody>\n",
       "</table>\n",
       "</div>"
      ],
      "text/plain": [
       "          0         1         2  3\n",
       "0 -0.226619 -0.495161 -0.097383  0\n",
       "1 -0.516235 -1.325343 -1.248917  0\n",
       "2 -0.462522  0.127502  0.083068  0\n",
       "3  1.931896 -0.930833 -1.037631  1\n",
       "4 -1.473490 -0.349077  0.843149  0"
      ]
     },
     "execution_count": 36,
     "metadata": {},
     "output_type": "execute_result"
    }
   ],
   "source": [
    "#method 1\n",
    "pca1 = PCA(n_components=3,random_state=42)\n",
    "PCA_df = pd.DataFrame(pca1.fit_transform(X_preprocessed))\n",
    "Y_train_pd = pd.DataFrame(Y_train_final)\n",
    "Y_train_pd.reset_index(drop=True, inplace=True)\n",
    "PCA_df = pd.concat([PCA_df, Y_train_pd], axis=1, ignore_index=True )\n",
    "PCA_df.head()"
   ]
  },
  {
   "cell_type": "code",
   "execution_count": 37,
   "metadata": {},
   "outputs": [
    {
     "data": {
      "image/png": "[encoded data removed]",
      "text/plain": [
       "<Figure size 800x800 with 1 Axes>"
      ]
     },
     "metadata": {},
     "output_type": "display_data"
    }
   ],
   "source": [
    "plt.figure(figsize=(8,8))\n",
    "#sns.scatterplot( PCA_df[0],PCA_df[1],hue=PCA_df[3])\n",
    "sns.scatterplot(x=PCA_df[0],y=PCA_df[1],hue=PCA_df[3])\n",
    "plt.show()"
   ]
  },
  {
   "cell_type": "code",
   "execution_count": 38,
   "metadata": {},
   "outputs": [
    {
     "name": "stdout",
     "output_type": "stream",
     "text": [
      "Eigen values of  data:  [1.61651, 1.20098, 1.0361, 0.68838, 0.53467, 0.4269, 0.27726, 0.20733, 0.17242, 0.07626, 0.04773, 0.03535, 0.01452, 0.0, 0.0]\n"
     ]
    }
   ],
   "source": [
    "#method 2\n",
    "pca2 = PCA(random_state=42) # Compute PCA\n",
    "data_pca = pca2.fit_transform(X_preprocessed) # Fit and transform data\n",
    "eigenvalues = pca2.explained_variance_ # Get eigenvalues\n",
    "eigenvalues = np.round(eigenvalues, 5) # Round off eigenvalues\n",
    "print(\"Eigen values of  data: \", eigenvalues.tolist())"
   ]
  },
  {
   "cell_type": "markdown",
   "metadata": {},
   "source": [
    "#### Eigen values are large for all components "
   ]
  },
  {
   "cell_type": "code",
   "execution_count": 39,
   "metadata": {},
   "outputs": [
    {
     "data": {
      "text/plain": [
       "Text(0, 0.5, 'Principal Component 1')"
      ]
     },
     "execution_count": 39,
     "metadata": {},
     "output_type": "execute_result"
    },
    {
     "data": {
      "image/png": "[encoded data removed]",
      "text/plain": [
       "<Figure size 3000x700 with 1 Axes>"
      ]
     },
     "metadata": {},
     "output_type": "display_data"
    }
   ],
   "source": [
    "fig = plt.figure(figsize= (30, 7))\n",
    "\n",
    "ax = fig.add_subplot(131) # PCA  data\n",
    "ax.scatter(data_pca[:,0], data_pca[:,1], marker= '.', color= '#2ade2a', s= 28, alpha= 0.4)\n",
    "ax.set_title(\" Data PCA\", fontsize= 20)\n",
    "ax.set_xlabel(\"Principal Component 0\", fontsize= 20)\n",
    "ax.set_ylabel(\"Principal Component 1\", fontsize= 20)"
   ]
  },
  {
   "cell_type": "markdown",
   "metadata": {},
   "source": [
    "#### using these two methods I have identified that the data is non linear and I will use a classification algorithm such as SVC , random forest, K nearest neighbor classifier to build the classification model"
   ]
  },
  {
   "cell_type": "code",
   "execution_count": 40,
   "metadata": {},
   "outputs": [],
   "source": [
    "from sklearn.ensemble import RandomForestClassifier,GradientBoostingClassifier\n",
    "from sklearn.svm import SVC\n",
    "from sklearn.metrics import accuracy_score,confusion_matrix\n",
    "\n",
    "rf = RandomForestClassifier(n_estimators=10)\n",
    "gb = GradientBoostingClassifier()\n",
    "svc = SVC(kernel='poly',degree=3)"
   ]
  },
  {
   "cell_type": "code",
   "execution_count": 41,
   "metadata": {},
   "outputs": [
    {
     "data": {
      "text/plain": [
       "0.7692307692307693"
      ]
     },
     "execution_count": 41,
     "metadata": {},
     "output_type": "execute_result"
    }
   ],
   "source": [
    "rf.fit(X_train_final,Y_train_final)\n",
    "y_pred = rf.predict(X_test_final)\n",
    "accuracy_score(Y_test_final,y_pred)"
   ]
  },
  {
   "cell_type": "code",
   "execution_count": 42,
   "metadata": {},
   "outputs": [
    {
     "data": {
      "text/plain": [
       "0.7692307692307693"
      ]
     },
     "execution_count": 42,
     "metadata": {},
     "output_type": "execute_result"
    }
   ],
   "source": [
    "gb.fit(X_train_final,Y_train_final)\n",
    "y_pred = gb.predict(X_test_final)\n",
    "accuracy_score(Y_test_final,y_pred)"
   ]
  },
  {
   "cell_type": "code",
   "execution_count": 43,
   "metadata": {},
   "outputs": [
    {
     "data": {
      "text/plain": [
       "0.8"
      ]
     },
     "execution_count": 43,
     "metadata": {},
     "output_type": "execute_result"
    }
   ],
   "source": [
    "svc.fit(X_train_final,Y_train_final)\n",
    "y_pred = svc.predict(X_test_final)\n",
    "accuracy_score(Y_test_final,y_pred)"
   ]
  },
  {
   "cell_type": "code",
   "execution_count": 44,
   "metadata": {},
   "outputs": [
    {
     "data": {
      "text/plain": [
       "array([[52,  0],\n",
       "       [13,  0]], dtype=int64)"
      ]
     },
     "execution_count": 44,
     "metadata": {},
     "output_type": "execute_result"
    }
   ],
   "source": [
    "confusion_matrix(Y_test_final,y_pred)"
   ]
  },
  {
   "cell_type": "markdown",
   "metadata": {},
   "source": [
    "#### In the above confusion matrix, TN = 52 and FN =13, False Negative is all cases where actual value was 1 and it was predicted as 0"
   ]
  },
  {
   "cell_type": "code",
   "execution_count": 45,
   "metadata": {},
   "outputs": [
    {
     "data": {
      "text/html": [
       "<div>\n",
       "<style scoped>\n",
       "    .dataframe tbody tr th:only-of-type {\n",
       "        vertical-align: middle;\n",
       "    }\n",
       "\n",
       "    .dataframe tbody tr th {\n",
       "        vertical-align: top;\n",
       "    }\n",
       "\n",
       "    .dataframe thead th {\n",
       "        text-align: right;\n",
       "    }\n",
       "</style>\n",
       "<table border=\"1\" class=\"dataframe\">\n",
       "  <thead>\n",
       "    <tr style=\"text-align: right;\">\n",
       "      <th></th>\n",
       "      <th>Actual Label</th>\n",
       "      <th>SV Prediction</th>\n",
       "    </tr>\n",
       "  </thead>\n",
       "  <tbody>\n",
       "    <tr>\n",
       "      <th>0</th>\n",
       "      <td>0</td>\n",
       "      <td>0</td>\n",
       "    </tr>\n",
       "    <tr>\n",
       "      <th>1</th>\n",
       "      <td>0</td>\n",
       "      <td>0</td>\n",
       "    </tr>\n",
       "    <tr>\n",
       "      <th>2</th>\n",
       "      <td>0</td>\n",
       "      <td>0</td>\n",
       "    </tr>\n",
       "    <tr>\n",
       "      <th>3</th>\n",
       "      <td>1</td>\n",
       "      <td>0</td>\n",
       "    </tr>\n",
       "    <tr>\n",
       "      <th>4</th>\n",
       "      <td>0</td>\n",
       "      <td>0</td>\n",
       "    </tr>\n",
       "    <tr>\n",
       "      <th>5</th>\n",
       "      <td>0</td>\n",
       "      <td>0</td>\n",
       "    </tr>\n",
       "    <tr>\n",
       "      <th>6</th>\n",
       "      <td>0</td>\n",
       "      <td>0</td>\n",
       "    </tr>\n",
       "    <tr>\n",
       "      <th>7</th>\n",
       "      <td>0</td>\n",
       "      <td>0</td>\n",
       "    </tr>\n",
       "    <tr>\n",
       "      <th>8</th>\n",
       "      <td>0</td>\n",
       "      <td>0</td>\n",
       "    </tr>\n",
       "    <tr>\n",
       "      <th>9</th>\n",
       "      <td>0</td>\n",
       "      <td>0</td>\n",
       "    </tr>\n",
       "  </tbody>\n",
       "</table>\n",
       "</div>"
      ],
      "text/plain": [
       "   Actual Label  SV Prediction\n",
       "0             0              0\n",
       "1             0              0\n",
       "2             0              0\n",
       "3             1              0\n",
       "4             0              0\n",
       "5             0              0\n",
       "6             0              0\n",
       "7             0              0\n",
       "8             0              0\n",
       "9             0              0"
      ]
     },
     "execution_count": 45,
     "metadata": {},
     "output_type": "execute_result"
    }
   ],
   "source": [
    "result = pd.DataFrame()\n",
    "result['Actual Label'] = Y_test_final\n",
    "result['SV Prediction'] = y_pred\n",
    "result.head(10)"
   ]
  },
  {
   "cell_type": "code",
   "execution_count": 46,
   "metadata": {},
   "outputs": [
    {
     "data": {
      "text/plain": [
       "0    65\n",
       "Name: SV Prediction, dtype: int64"
      ]
     },
     "execution_count": 46,
     "metadata": {},
     "output_type": "execute_result"
    }
   ],
   "source": [
    "result['Actual Label'].value_counts()\n",
    "result['SV Prediction'].value_counts()"
   ]
  },
  {
   "cell_type": "markdown",
   "metadata": {},
   "source": [
    "#### our model has misclassified all the 13 alive data points this is because the target variables in the dataset are not balanced.\n",
    "#### I will perform undersampling and retrain the model again"
   ]
  },
  {
   "cell_type": "code",
   "execution_count": 47,
   "metadata": {},
   "outputs": [
    {
     "data": {
      "text/plain": [
       "Alive    255\n",
       "Dead      66\n",
       "Name: Patient_Status, dtype: int64"
      ]
     },
     "execution_count": 47,
     "metadata": {},
     "output_type": "execute_result"
    }
   ],
   "source": [
    "Y.value_counts()"
   ]
  },
  {
   "cell_type": "code",
   "execution_count": 48,
   "metadata": {},
   "outputs": [
    {
     "name": "stdout",
     "output_type": "stream",
     "text": [
      "original dataset shape: Alive    255\n",
      "Dead      66\n",
      "Name: Patient_Status, dtype: int64\n",
      "Resample dataset shape Alive    66\n",
      "Dead     66\n",
      "Name: Patient_Status, dtype: int64\n"
     ]
    }
   ],
   "source": [
    "from imblearn.under_sampling import RandomUnderSampler\n",
    "from imblearn.over_sampling import RandomOverSampler\n",
    "\n",
    "rus = RandomUnderSampler(random_state=42, replacement=True)# fit predictor and target variable\n",
    "x_rus, y_rus = rus.fit_resample(X, Y)\n",
    "\n",
    "print('original dataset shape:', Y.value_counts())\n",
    "print('Resample dataset shape', y_rus.value_counts())"
   ]
  },
  {
   "cell_type": "markdown",
   "metadata": {},
   "source": [
    "#### Undersampled dataset is very small, I will try oversampling. Undersampling and oversampling should only be applied on the training data"
   ]
  },
  {
   "cell_type": "code",
   "execution_count": 55,
   "metadata": {},
   "outputs": [
    {
     "name": "stdout",
     "output_type": "stream",
     "text": [
      "Original dataset shape Alive    203\n",
      "Dead      53\n",
      "Name: Patient_Status, dtype: int64\n",
      "Resample dataset shape Alive    203\n",
      "Dead     203\n",
      "Name: Patient_Status, dtype: int64\n"
     ]
    }
   ],
   "source": [
    "\n",
    "ros = RandomOverSampler(random_state=42)\n",
    "\n",
    "# fit predictor and target variable\n",
    "x_ros, y_ros = ros.fit_resample(X_train, Y_train)\n",
    "\n",
    "print('Original dataset shape', Y_train.value_counts())\n",
    "print('Resample dataset shape', y_ros.value_counts())"
   ]
  },
  {
   "cell_type": "code",
   "execution_count": 56,
   "metadata": {},
   "outputs": [
    {
     "name": "stderr",
     "output_type": "stream",
     "text": [
      "c:\\Users\\nidhi\\anaconda3\\lib\\site-packages\\sklearn\\preprocessing\\_encoders.py:828: FutureWarning: `sparse` was renamed to `sparse_output` in version 1.2 and will be removed in 1.4. `sparse_output` is ignored unless you leave `sparse` to its default value.\n",
      "  warnings.warn(\n"
     ]
    }
   ],
   "source": [
    "#X_train_os, X_test_os, Y_train_os, Y_test_os = train_test_split(x_ros,y_ros, test_size=0.2,random_state=42)\n",
    "X_train_final = pipe.fit_transform(x_ros)\n",
    "X_test_final = pipe.transform(X_test)\n",
    "Y_train_final = le.fit_transform(y_ros)\n",
    "Y_test_final = le.transform(Y_test)"
   ]
  },
  {
   "cell_type": "code",
   "execution_count": 57,
   "metadata": {},
   "outputs": [
    {
     "data": {
      "text/plain": [
       "0.7846153846153846"
      ]
     },
     "execution_count": 57,
     "metadata": {},
     "output_type": "execute_result"
    }
   ],
   "source": [
    "rf.fit(X_train_final,Y_train_final)\n",
    "y_pred = rf.predict(X_test_final)\n",
    "accuracy_score(Y_test_final,y_pred)"
   ]
  },
  {
   "cell_type": "code",
   "execution_count": 58,
   "metadata": {},
   "outputs": [
    {
     "data": {
      "text/plain": [
       "array([[49,  3],\n",
       "       [11,  2]], dtype=int64)"
      ]
     },
     "execution_count": 58,
     "metadata": {},
     "output_type": "execute_result"
    }
   ],
   "source": [
    "confusion_matrix(Y_test_final,y_pred)"
   ]
  },
  {
   "cell_type": "markdown",
   "metadata": {},
   "source": [
    "#### After oversampling, the accuracy of the model has improved and I will try to improve it further by hyperparameter tuning.\n"
   ]
  },
  {
   "cell_type": "code",
   "execution_count": 59,
   "metadata": {},
   "outputs": [
    {
     "name": "stdout",
     "output_type": "stream",
     "text": [
      "{'n_estimators': [20, 60, 100, 120], 'max_features': [0.2, 0.6, 1.0], 'max_depth': [2, 8, None], 'max_samples': [0.5, 0.75, 1.0]}\n",
      "Fitting 5 folds for each of 108 candidates, totalling 540 fits\n"
     ]
    },
    {
     "data": {
      "text/html": [
       "<style>#sk-container-id-1 {color: black;background-color: white;}#sk-container-id-1 pre{padding: 0;}#sk-container-id-1 div.sk-toggleable {background-color: white;}#sk-container-id-1 label.sk-toggleable__label {cursor: pointer;display: block;width: 100%;margin-bottom: 0;padding: 0.3em;box-sizing: border-box;text-align: center;}#sk-container-id-1 label.sk-toggleable__label-arrow:before {content: \"▸\";float: left;margin-right: 0.25em;color: #696969;}#sk-container-id-1 label.sk-toggleable__label-arrow:hover:before {color: black;}#sk-container-id-1 div.sk-estimator:hover label.sk-toggleable__label-arrow:before {color: black;}#sk-container-id-1 div.sk-toggleable__content {max-height: 0;max-width: 0;overflow: hidden;text-align: left;background-color: #f0f8ff;}#sk-container-id-1 div.sk-toggleable__content pre {margin: 0.2em;color: black;border-radius: 0.25em;background-color: #f0f8ff;}#sk-container-id-1 input.sk-toggleable__control:checked~div.sk-toggleable__content {max-height: 200px;max-width: 100%;overflow: auto;}#sk-container-id-1 input.sk-toggleable__control:checked~label.sk-toggleable__label-arrow:before {content: \"▾\";}#sk-container-id-1 div.sk-estimator input.sk-toggleable__control:checked~label.sk-toggleable__label {background-color: #d4ebff;}#sk-container-id-1 div.sk-label input.sk-toggleable__control:checked~label.sk-toggleable__label {background-color: #d4ebff;}#sk-container-id-1 input.sk-hidden--visually {border: 0;clip: rect(1px 1px 1px 1px);clip: rect(1px, 1px, 1px, 1px);height: 1px;margin: -1px;overflow: hidden;padding: 0;position: absolute;width: 1px;}#sk-container-id-1 div.sk-estimator {font-family: monospace;background-color: #f0f8ff;border: 1px dotted black;border-radius: 0.25em;box-sizing: border-box;margin-bottom: 0.5em;}#sk-container-id-1 div.sk-estimator:hover {background-color: #d4ebff;}#sk-container-id-1 div.sk-parallel-item::after {content: \"\";width: 100%;border-bottom: 1px solid gray;flex-grow: 1;}#sk-container-id-1 div.sk-label:hover label.sk-toggleable__label {background-color: #d4ebff;}#sk-container-id-1 div.sk-serial::before {content: \"\";position: absolute;border-left: 1px solid gray;box-sizing: border-box;top: 0;bottom: 0;left: 50%;z-index: 0;}#sk-container-id-1 div.sk-serial {display: flex;flex-direction: column;align-items: center;background-color: white;padding-right: 0.2em;padding-left: 0.2em;position: relative;}#sk-container-id-1 div.sk-item {position: relative;z-index: 1;}#sk-container-id-1 div.sk-parallel {display: flex;align-items: stretch;justify-content: center;background-color: white;position: relative;}#sk-container-id-1 div.sk-item::before, #sk-container-id-1 div.sk-parallel-item::before {content: \"\";position: absolute;border-left: 1px solid gray;box-sizing: border-box;top: 0;bottom: 0;left: 50%;z-index: -1;}#sk-container-id-1 div.sk-parallel-item {display: flex;flex-direction: column;z-index: 1;position: relative;background-color: white;}#sk-container-id-1 div.sk-parallel-item:first-child::after {align-self: flex-end;width: 50%;}#sk-container-id-1 div.sk-parallel-item:last-child::after {align-self: flex-start;width: 50%;}#sk-container-id-1 div.sk-parallel-item:only-child::after {width: 0;}#sk-container-id-1 div.sk-dashed-wrapped {border: 1px dashed gray;margin: 0 0.4em 0.5em 0.4em;box-sizing: border-box;padding-bottom: 0.4em;background-color: white;}#sk-container-id-1 div.sk-label label {font-family: monospace;font-weight: bold;display: inline-block;line-height: 1.2em;}#sk-container-id-1 div.sk-label-container {text-align: center;}#sk-container-id-1 div.sk-container {/* jupyter's `normalize.less` sets `[hidden] { display: none; }` but bootstrap.min.css set `[hidden] { display: none !important; }` so we also need the `!important` here to be able to override the default hidden behavior on the sphinx rendered scikit-learn.org. See: https://github.com/scikit-learn/scikit-learn/issues/21755 */display: inline-block !important;position: relative;}#sk-container-id-1 div.sk-text-repr-fallback {display: none;}</style><div id=\"sk-container-id-1\" class=\"sk-top-container\"><div class=\"sk-text-repr-fallback\"><pre>GridSearchCV(cv=5, estimator=RandomForestClassifier(n_estimators=10), n_jobs=-1,\n",
       "             param_grid={&#x27;max_depth&#x27;: [2, 8, None],\n",
       "                         &#x27;max_features&#x27;: [0.2, 0.6, 1.0],\n",
       "                         &#x27;max_samples&#x27;: [0.5, 0.75, 1.0],\n",
       "                         &#x27;n_estimators&#x27;: [20, 60, 100, 120]},\n",
       "             verbose=2)</pre><b>In a Jupyter environment, please rerun this cell to show the HTML representation or trust the notebook. <br />On GitHub, the HTML representation is unable to render, please try loading this page with nbviewer.org.</b></div><div class=\"sk-container\" hidden><div class=\"sk-item sk-dashed-wrapped\"><div class=\"sk-label-container\"><div class=\"sk-label sk-toggleable\"><input class=\"sk-toggleable__control sk-hidden--visually\" id=\"sk-estimator-id-1\" type=\"checkbox\" ><label for=\"sk-estimator-id-1\" class=\"sk-toggleable__label sk-toggleable__label-arrow\">GridSearchCV</label><div class=\"sk-toggleable__content\"><pre>GridSearchCV(cv=5, estimator=RandomForestClassifier(n_estimators=10), n_jobs=-1,\n",
       "             param_grid={&#x27;max_depth&#x27;: [2, 8, None],\n",
       "                         &#x27;max_features&#x27;: [0.2, 0.6, 1.0],\n",
       "                         &#x27;max_samples&#x27;: [0.5, 0.75, 1.0],\n",
       "                         &#x27;n_estimators&#x27;: [20, 60, 100, 120]},\n",
       "             verbose=2)</pre></div></div></div><div class=\"sk-parallel\"><div class=\"sk-parallel-item\"><div class=\"sk-item\"><div class=\"sk-label-container\"><div class=\"sk-label sk-toggleable\"><input class=\"sk-toggleable__control sk-hidden--visually\" id=\"sk-estimator-id-2\" type=\"checkbox\" ><label for=\"sk-estimator-id-2\" class=\"sk-toggleable__label sk-toggleable__label-arrow\">estimator: RandomForestClassifier</label><div class=\"sk-toggleable__content\"><pre>RandomForestClassifier(n_estimators=10)</pre></div></div></div><div class=\"sk-serial\"><div class=\"sk-item\"><div class=\"sk-estimator sk-toggleable\"><input class=\"sk-toggleable__control sk-hidden--visually\" id=\"sk-estimator-id-3\" type=\"checkbox\" ><label for=\"sk-estimator-id-3\" class=\"sk-toggleable__label sk-toggleable__label-arrow\">RandomForestClassifier</label><div class=\"sk-toggleable__content\"><pre>RandomForestClassifier(n_estimators=10)</pre></div></div></div></div></div></div></div></div></div></div>"
      ],
      "text/plain": [
       "GridSearchCV(cv=5, estimator=RandomForestClassifier(n_estimators=10), n_jobs=-1,\n",
       "             param_grid={'max_depth': [2, 8, None],\n",
       "                         'max_features': [0.2, 0.6, 1.0],\n",
       "                         'max_samples': [0.5, 0.75, 1.0],\n",
       "                         'n_estimators': [20, 60, 100, 120]},\n",
       "             verbose=2)"
      ]
     },
     "execution_count": 59,
     "metadata": {},
     "output_type": "execute_result"
    }
   ],
   "source": [
    "from sklearn.model_selection import GridSearchCV\n",
    "\n",
    "# Number of trees in random forest\n",
    "n_estimators = [20,60,100,120]\n",
    "\n",
    "# Number of features to consider at every split\n",
    "max_features = [0.2,0.6,1.0]\n",
    "\n",
    "# Maximum number of levels in tree\n",
    "max_depth = [2,8,None]\n",
    "\n",
    "# Number of samples\n",
    "max_samples = [0.5,0.75,1.0]\n",
    "\n",
    "# 108 diff random forest train\n",
    "param_grid = {'n_estimators': n_estimators,\n",
    "               'max_features': max_features,\n",
    "               'max_depth': max_depth,\n",
    "              'max_samples':max_samples\n",
    "             }\n",
    "print(param_grid)\n",
    "\n",
    "rf_grid = GridSearchCV(estimator = rf, \n",
    "                       param_grid = param_grid, \n",
    "                       cv = 5, \n",
    "                       verbose=2, \n",
    "                       n_jobs = -1)\n",
    "rf_grid.fit(X_train_final,Y_train_final)\n"
   ]
  },
  {
   "cell_type": "code",
   "execution_count": 60,
   "metadata": {},
   "outputs": [
    {
     "data": {
      "text/plain": [
       "{'max_depth': None,\n",
       " 'max_features': 0.2,\n",
       " 'max_samples': 1.0,\n",
       " 'n_estimators': 120}"
      ]
     },
     "execution_count": 60,
     "metadata": {},
     "output_type": "execute_result"
    }
   ],
   "source": [
    "rf_grid.best_params_\n"
   ]
  },
  {
   "cell_type": "code",
   "execution_count": 61,
   "metadata": {},
   "outputs": [
    {
     "data": {
      "text/plain": [
       "0.9335140018066849"
      ]
     },
     "execution_count": 61,
     "metadata": {},
     "output_type": "execute_result"
    }
   ],
   "source": [
    "rf_grid.best_score_"
   ]
  },
  {
   "cell_type": "code",
   "execution_count": 64,
   "metadata": {},
   "outputs": [
    {
     "data": {
      "text/plain": [
       "0.7846153846153846"
      ]
     },
     "execution_count": 64,
     "metadata": {},
     "output_type": "execute_result"
    }
   ],
   "source": [
    "rf_final = RandomForestClassifier(max_depth=4,max_features=0.2,max_samples=1.0,n_estimators=120)\n",
    "rf_final.fit(X_train_final,Y_train_final)\n",
    "y_pred = rf.predict(X_test_final)\n",
    "accuracy_score(Y_test_final,y_pred)"
   ]
  },
  {
   "cell_type": "code",
   "execution_count": 63,
   "metadata": {},
   "outputs": [
    {
     "data": {
      "text/plain": [
       "array([[49,  3],\n",
       "       [11,  2]], dtype=int64)"
      ]
     },
     "execution_count": 63,
     "metadata": {},
     "output_type": "execute_result"
    }
   ],
   "source": [
    "confusion_matrix(Y_test_final,y_pred)"
   ]
  }
 ],
 "metadata": {
  "kernelspec": {
   "display_name": "base",
   "language": "python",
   "name": "python3"
  },
  "language_info": {
   "codemirror_mode": {
    "name": "ipython",
    "version": 3
   },
   "file_extension": ".py",
   "mimetype": "text/x-python",
   "name": "python",
   "nbconvert_exporter": "python",
   "pygments_lexer": "ipython3",
   "version": "3.10.9"
  }
 },
 "nbformat": 4,
 "nbformat_minor": 2
}
